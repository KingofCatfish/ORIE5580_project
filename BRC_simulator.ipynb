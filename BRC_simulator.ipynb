{
 "cells": [
  {
   "cell_type": "code",
   "execution_count": 1,
   "metadata": {},
   "outputs": [],
   "source": [
    "from simulator import Simulator\n",
    "from scipy import stats\n",
    "import seaborn as sns\n",
    "sns.set(rc={'figure.figsize':(15, 7.5)})"
   ]
  },
  {
   "cell_type": "markdown",
   "metadata": {},
   "source": [
    "#### Description\n",
    "\n",
    "The input of the BRC simualtor includes the following part:\n",
    "\n",
    "1. transaction_generator，a generator function which should generate a random transacion upon calling. The return value should a tuple of transaction amount, transaction fee (absolute value instead of percentage) and interarrival time.\n",
    "2. mu_generator，a generator function which should return a interarrival time for block generation event.\n",
    "3. K, maximum size of a blcok.\n",
    "\n",
    "After defining the simulator object, invoke 'run' function to start simulation. User can specify the simulation length (duration), and warm up time. Then 'plot' function can be invoked to draw trends."
   ]
  },
  {
   "cell_type": "markdown",
   "metadata": {},
   "source": [
    "### Run 1\n",
    "\n",
    "| Key  | Value  | Distribution |\n",
    "|:------------- |:---------------:| -------------:|\n",
    "| Transaction rate    | 120 / hr |   Poission |\n",
    "| Transaction amount      | 5 - 25        |     Uniform |\n",
    "| Transaction fee percentage | 1% or 2%        |  Binomial |\n",
    "| Block generation rate | 30 / hr        |    Poission |\n",
    "| Maximum block size | 10        |    None |\n",
    "| Running time | 5000        |    None |\n",
    "| Warm up | 1000        |    None |\n"
   ]
  },
  {
   "cell_type": "code",
   "execution_count": 2,
   "metadata": {},
   "outputs": [
    {
     "ename": "TypeError",
     "evalue": "'<' not supported between instances of 'Transaction' and 'Transaction'",
     "output_type": "error",
     "traceback": [
      "\u001b[0;31m---------------------------------------------------------------------------\u001b[0m",
      "\u001b[0;31mTypeError\u001b[0m                                 Traceback (most recent call last)",
      "\u001b[0;32m<ipython-input-2-d2ceea5164fb>\u001b[0m in \u001b[0;36m<module>\u001b[0;34m()\u001b[0m\n\u001b[1;32m     22\u001b[0m \u001b[0;34m\u001b[0m\u001b[0m\n\u001b[1;32m     23\u001b[0m \u001b[0msimulator\u001b[0m \u001b[0;34m=\u001b[0m \u001b[0mSimulator\u001b[0m\u001b[0;34m(\u001b[0m\u001b[0mtransaction_generator\u001b[0m\u001b[0;34m,\u001b[0m \u001b[0mmu_generator\u001b[0m\u001b[0;34m,\u001b[0m \u001b[0mK\u001b[0m\u001b[0;34m=\u001b[0m\u001b[0;36m10\u001b[0m\u001b[0;34m)\u001b[0m\u001b[0;34m\u001b[0m\u001b[0m\n\u001b[0;32m---> 24\u001b[0;31m \u001b[0msimulator\u001b[0m\u001b[0;34m.\u001b[0m\u001b[0mrun\u001b[0m\u001b[0;34m(\u001b[0m\u001b[0mduration\u001b[0m\u001b[0;34m=\u001b[0m\u001b[0;36m5000\u001b[0m\u001b[0;34m,\u001b[0m \u001b[0mwarm_up\u001b[0m\u001b[0;34m=\u001b[0m\u001b[0;36m1000\u001b[0m\u001b[0;34m,\u001b[0m \u001b[0mverbose\u001b[0m\u001b[0;34m=\u001b[0m\u001b[0;32mTrue\u001b[0m\u001b[0;34m)\u001b[0m\u001b[0;34m\u001b[0m\u001b[0m\n\u001b[0m",
      "\u001b[0;32m~/Documents/ORIE/ORIE 5580 - Simulation Modeling and Analysis/ORIE5580_project/simulator.py\u001b[0m in \u001b[0;36mrun\u001b[0;34m(self, duration, warm_up, verbose)\u001b[0m\n\u001b[1;32m    231\u001b[0m             \u001b[0;31m# Update the time stamp\u001b[0m\u001b[0;34m\u001b[0m\u001b[0;34m\u001b[0m\u001b[0m\n\u001b[1;32m    232\u001b[0m             \u001b[0mself\u001b[0m\u001b[0;34m.\u001b[0m\u001b[0mtime\u001b[0m \u001b[0;34m=\u001b[0m \u001b[0mtime\u001b[0m\u001b[0;34m\u001b[0m\u001b[0m\n\u001b[0;32m--> 233\u001b[0;31m             \u001b[0mevent\u001b[0m\u001b[0;34m(\u001b[0m\u001b[0;34m)\u001b[0m\u001b[0;34m\u001b[0m\u001b[0m\n\u001b[0m\u001b[1;32m    234\u001b[0m             \u001b[0;32mif\u001b[0m \u001b[0mself\u001b[0m\u001b[0;34m.\u001b[0m\u001b[0mtime\u001b[0m \u001b[0;34m>\u001b[0m \u001b[0mwarm_up\u001b[0m\u001b[0;34m:\u001b[0m\u001b[0;34m\u001b[0m\u001b[0m\n\u001b[1;32m    235\u001b[0m                 \u001b[0;31m# Log after warmed up\u001b[0m\u001b[0;34m\u001b[0m\u001b[0;34m\u001b[0m\u001b[0m\n",
      "\u001b[0;32m~/Documents/ORIE/ORIE 5580 - Simulation Modeling and Analysis/ORIE5580_project/simulator.py\u001b[0m in \u001b[0;36madd_transaction_event\u001b[0;34m(self)\u001b[0m\n\u001b[1;32m    199\u001b[0m         \u001b[0mamount\u001b[0m\u001b[0;34m,\u001b[0m \u001b[0mfee\u001b[0m\u001b[0;34m,\u001b[0m \u001b[0minter_arrival_time\u001b[0m \u001b[0;34m=\u001b[0m \u001b[0mself\u001b[0m\u001b[0;34m.\u001b[0m\u001b[0mtransaction_generator\u001b[0m\u001b[0;34m(\u001b[0m\u001b[0;34m)\u001b[0m\u001b[0;34m\u001b[0m\u001b[0m\n\u001b[1;32m    200\u001b[0m         \u001b[0;31m# Add it into the transaction pool\u001b[0m\u001b[0;34m\u001b[0m\u001b[0;34m\u001b[0m\u001b[0m\n\u001b[0;32m--> 201\u001b[0;31m         \u001b[0mself\u001b[0m\u001b[0;34m.\u001b[0m\u001b[0mpool\u001b[0m\u001b[0;34m.\u001b[0m\u001b[0madd_transaction\u001b[0m\u001b[0;34m(\u001b[0m\u001b[0mTransaction\u001b[0m\u001b[0;34m(\u001b[0m\u001b[0mamount\u001b[0m\u001b[0;34m,\u001b[0m \u001b[0mfee\u001b[0m\u001b[0;34m,\u001b[0m \u001b[0mself\u001b[0m\u001b[0;34m.\u001b[0m\u001b[0mtime\u001b[0m\u001b[0;34m)\u001b[0m\u001b[0;34m)\u001b[0m\u001b[0;34m\u001b[0m\u001b[0m\n\u001b[0m\u001b[1;32m    202\u001b[0m         \u001b[0;31m# Add next transaction into the event pool\u001b[0m\u001b[0;34m\u001b[0m\u001b[0;34m\u001b[0m\u001b[0m\n\u001b[1;32m    203\u001b[0m         heappush(self.event, (self.time + inter_arrival_time,\n",
      "\u001b[0;32m~/Documents/ORIE/ORIE 5580 - Simulation Modeling and Analysis/ORIE5580_project/simulator.py\u001b[0m in \u001b[0;36madd_transaction\u001b[0;34m(self, transaction)\u001b[0m\n\u001b[1;32m     74\u001b[0m         \u001b[0mself\u001b[0m\u001b[0;34m.\u001b[0m\u001b[0mpending_amount\u001b[0m \u001b[0;34m+=\u001b[0m \u001b[0mtransaction\u001b[0m\u001b[0;34m.\u001b[0m\u001b[0mamount\u001b[0m\u001b[0;34m\u001b[0m\u001b[0m\n\u001b[1;32m     75\u001b[0m         \u001b[0mself\u001b[0m\u001b[0;34m.\u001b[0m\u001b[0mpending_fee\u001b[0m \u001b[0;34m+=\u001b[0m \u001b[0mtransaction\u001b[0m\u001b[0;34m.\u001b[0m\u001b[0mfee\u001b[0m\u001b[0;34m\u001b[0m\u001b[0m\n\u001b[0;32m---> 76\u001b[0;31m         \u001b[0mheappush\u001b[0m\u001b[0;34m(\u001b[0m\u001b[0mself\u001b[0m\u001b[0;34m.\u001b[0m\u001b[0mpool\u001b[0m\u001b[0;34m,\u001b[0m \u001b[0;34m(\u001b[0m\u001b[0;34m-\u001b[0m\u001b[0mtransaction\u001b[0m\u001b[0;34m.\u001b[0m\u001b[0mfee\u001b[0m\u001b[0;34m,\u001b[0m \u001b[0mtransaction\u001b[0m\u001b[0;34m)\u001b[0m\u001b[0;34m)\u001b[0m\u001b[0;34m\u001b[0m\u001b[0m\n\u001b[0m\u001b[1;32m     77\u001b[0m         \u001b[0mself\u001b[0m\u001b[0;34m.\u001b[0m\u001b[0mhistory\u001b[0m\u001b[0;34m.\u001b[0m\u001b[0mappend\u001b[0m\u001b[0;34m(\u001b[0m\u001b[0mtransaction\u001b[0m\u001b[0;34m)\u001b[0m\u001b[0;34m\u001b[0m\u001b[0m\n\u001b[1;32m     78\u001b[0m \u001b[0;34m\u001b[0m\u001b[0m\n",
      "\u001b[0;31mTypeError\u001b[0m: '<' not supported between instances of 'Transaction' and 'Transaction'"
     ]
    }
   ],
   "source": [
    "def transaction_generator():\n",
    "    \"\"\"\n",
    "    Define a transaction generator, it should return 3 value, the transaction amount, fee \n",
    "    and an inter-arrival time. Notice that the unit for time is minute.\n",
    "    \"\"\"\n",
    "    # Uniform transaction amount between 5, 25.\n",
    "    amount = stats.uniform.rvs() * 20 + 5\n",
    "    # Binomial transaction fee of 1% * amount or 2% * amount\n",
    "    fee = amount * (stats.binom.rvs(1, 0.5) / 100 + 0.01)\n",
    "    fee = 0.1\n",
    "    # Exponential inter-arrival time of 2 transaction / minute\n",
    "    inter_arrival_time = stats.expon.rvs(scale = 0.5)\n",
    "    return amount, fee, inter_arrival_time\n",
    "\n",
    "def mu_generator():\n",
    "    \"\"\"\n",
    "    Define a block event generator, it should return a random value of an inter-arrival time for block\n",
    "    generation.\n",
    "    \"\"\"\n",
    "    # Exponential inter-arrival time of 0.5 block / minute\n",
    "    return stats.expon.rvs(scale = 2)\n",
    "\n",
    "simulator = Simulator(transaction_generator, mu_generator, K=10)\n",
    "simulator.run(duration=5000, warm_up=1000, verbose=True)"
   ]
  },
  {
   "cell_type": "markdown",
   "metadata": {},
   "source": [
    "The following plot is supported：\n",
    "'all_transaction_amount', 'all_transaction_count',\n",
    "'all_transaction_fee', 'block', 'delay', 'finished_transaction_amount',\n",
    "'finished_transaction_count', 'finished_transaction_fee',\n",
    "'pending_transaction_amount', 'pending_transaction_count',\n",
    "'pending_transaction_fee', 'average_delay',\n",
    "'average_transaction_amount', 'average_transaction_fee',\n",
    "'average_pending_transaction_amount', 'average_pending_transaction_fee',\n",
    "'average_finished_transaction_amount',\n",
    "'average_finished_transaction_fee', 'average_block_size',\n",
    "'average_block_amount', 'average_block_fee'"
   ]
  },
  {
   "cell_type": "markdown",
   "metadata": {},
   "source": [
    "## Inspect the result\n",
    "\n",
    "#### What is the distribution of transaction amount?"
   ]
  },
  {
   "cell_type": "code",
   "execution_count": null,
   "metadata": {},
   "outputs": [],
   "source": [
    "simulator.transaction_plot('amount')"
   ]
  },
  {
   "cell_type": "markdown",
   "metadata": {},
   "source": [
    "#### What is the relationship between transaction amount and transaction fee?"
   ]
  },
  {
   "cell_type": "code",
   "execution_count": null,
   "metadata": {},
   "outputs": [],
   "source": [
    "simulator.transaction_plot('amount', 'fee')"
   ]
  },
  {
   "cell_type": "markdown",
   "metadata": {},
   "source": [
    "#### What is the distribution of transactions' create time?"
   ]
  },
  {
   "cell_type": "code",
   "execution_count": null,
   "metadata": {},
   "outputs": [],
   "source": [
    "simulator.transaction_plot('create_time')"
   ]
  },
  {
   "cell_type": "markdown",
   "metadata": {},
   "source": [
    "#### What is the relationship between transaction fee and pending time?"
   ]
  },
  {
   "cell_type": "code",
   "execution_count": null,
   "metadata": {},
   "outputs": [],
   "source": [
    "simulator.transaction_plot('fee', 'pending_time')"
   ]
  },
  {
   "cell_type": "markdown",
   "metadata": {},
   "source": [
    "#### What is the average delay time over time"
   ]
  },
  {
   "cell_type": "code",
   "execution_count": null,
   "metadata": {},
   "outputs": [],
   "source": [
    "simulator.plot('average_delay')"
   ]
  },
  {
   "cell_type": "markdown",
   "metadata": {},
   "source": [
    "#### What is the average queue length?"
   ]
  },
  {
   "cell_type": "code",
   "execution_count": null,
   "metadata": {},
   "outputs": [],
   "source": [
    "simulator.plot('pending_transaction_count')"
   ]
  },
  {
   "cell_type": "markdown",
   "metadata": {},
   "source": [
    "#### What is average block size over time?"
   ]
  },
  {
   "cell_type": "code",
   "execution_count": null,
   "metadata": {},
   "outputs": [],
   "source": [
    "simulator.plot('average_block_size')"
   ]
  },
  {
   "cell_type": "markdown",
   "metadata": {},
   "source": [
    "#### What is the average transaction fee in a block?"
   ]
  },
  {
   "cell_type": "code",
   "execution_count": null,
   "metadata": {},
   "outputs": [],
   "source": [
    "simulator.plot('average_block_fee')"
   ]
  },
  {
   "cell_type": "markdown",
   "metadata": {},
   "source": [
    "#### What is the average earning of all miners per minute?"
   ]
  },
  {
   "cell_type": "code",
   "execution_count": null,
   "metadata": {},
   "outputs": [],
   "source": [
    "simulator.plot('average_finished_transaction_fee')"
   ]
  },
  {
   "cell_type": "code",
   "execution_count": null,
   "metadata": {},
   "outputs": [],
   "source": []
  }
 ],
 "metadata": {
  "kernelspec": {
   "display_name": "Python 3",
   "language": "python",
   "name": "python3"
  },
  "language_info": {
   "codemirror_mode": {
    "name": "ipython",
    "version": 3
   },
   "file_extension": ".py",
   "mimetype": "text/x-python",
   "name": "python",
   "nbconvert_exporter": "python",
   "pygments_lexer": "ipython3",
   "version": "3.6.2"
  }
 },
 "nbformat": 4,
 "nbformat_minor": 2
}
